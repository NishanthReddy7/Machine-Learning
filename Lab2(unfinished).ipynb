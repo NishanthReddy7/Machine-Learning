{
  "nbformat": 4,
  "nbformat_minor": 0,
  "metadata": {
    "colab": {
      "provenance": [],
      "authorship_tag": "ABX9TyP4y9lYkTCk28Iv7/SNzSYL",
      "include_colab_link": true
    },
    "kernelspec": {
      "name": "python3",
      "display_name": "Python 3"
    },
    "language_info": {
      "name": "python"
    }
  },
  "cells": [
    {
      "cell_type": "markdown",
      "metadata": {
        "id": "view-in-github",
        "colab_type": "text"
      },
      "source": [
        "<a href=\"https://colab.research.google.com/github/NishanthReddy7/Machine-Learning/blob/main/Lab2(unfinished).ipynb\" target=\"_parent\"><img src=\"https://colab.research.google.com/assets/colab-badge.svg\" alt=\"Open In Colab\"/></a>"
      ]
    },
    {
      "cell_type": "code",
      "source": [
        "import pandas as pd\n",
        "import numpy as np\n",
        "data = pd.read_excel('/Lab_Session_Data.xlsx')\n",
        "\n",
        "A=data[['Candies (#)','Mangoes (Kg)','Milk Packets (#)']]\n",
        "\n",
        "C=data[['Payment (Rs)']]\n",
        "\n",
        "print(\"The dimensionality of the 2 Columns are: \")\n",
        "print(A.shape)\n",
        "print(C.shape)"
      ],
      "metadata": {
        "colab": {
          "base_uri": "https://localhost:8080/"
        },
        "id": "l8OohWdbP7cE",
        "outputId": "60aa90b1-f364-4869-c5d5-70027b9125ca"
      },
      "execution_count": null,
      "outputs": [
        {
          "output_type": "stream",
          "name": "stdout",
          "text": [
            "The dimensionality of the 2 Columns are: \n",
            "(10, 3)\n",
            "(10, 1)\n"
          ]
        }
      ]
    },
    {
      "cell_type": "code",
      "source": [
        "rank_A = np.linalg.matrix_rank(A)\n",
        "print(\"Rank of Matrix A:\", rank_A)"
      ],
      "metadata": {
        "colab": {
          "base_uri": "https://localhost:8080/"
        },
        "id": "bbHwekxbRqK8",
        "outputId": "78810e1b-6334-49dd-fca7-3f28bc245415"
      },
      "execution_count": null,
      "outputs": [
        {
          "output_type": "stream",
          "name": "stdout",
          "text": [
            "Rank of Matrix A: 3\n"
          ]
        }
      ]
    },
    {
      "cell_type": "code",
      "source": [
        "A_pinv = np.linalg.pinv(A)\n",
        "\n",
        "print(\"The inverse of matrix A is :\", A_pinv)"
      ],
      "metadata": {
        "colab": {
          "base_uri": "https://localhost:8080/"
        },
        "id": "UlS_UDuRWo2j",
        "outputId": "dcf45555-2519-4939-b784-9def1b3a2767"
      },
      "execution_count": null,
      "outputs": [
        {
          "output_type": "stream",
          "name": "stdout",
          "text": [
            "The inverse of matrix A is : [[-0.01008596 -0.03124505  0.01013951  0.0290728   0.0182907   0.01161794\n",
            "  -0.00771348  0.00095458  0.01743623 -0.00542016]\n",
            " [ 0.09059668  0.07263726  0.03172933 -0.09071908 -0.01893196 -0.06926996\n",
            "   0.05675464  0.03152577 -0.07641966  0.00357352]\n",
            " [ 0.00299878  0.15874243 -0.05795468 -0.06609024 -0.06295043  0.03348017\n",
            "   0.01541831 -0.01070461  0.00029003  0.05938755]]\n"
          ]
        }
      ]
    },
    {
      "cell_type": "code",
      "source": [
        "X = np.dot(A_pinv, C)\n",
        "\n",
        "print(\"Model vector X:\")\n",
        "print(X)"
      ],
      "metadata": {
        "colab": {
          "base_uri": "https://localhost:8080/"
        },
        "id": "K-4vDnB2XteA",
        "outputId": "63c0743f-3256-4aef-8a86-a47cb953b0e2"
      },
      "execution_count": null,
      "outputs": [
        {
          "output_type": "stream",
          "name": "stdout",
          "text": [
            "Model vector X:\n",
            "[[ 1.]\n",
            " [55.]\n",
            " [18.]]\n"
          ]
        }
      ]
    },
    {
      "cell_type": "code",
      "source": [
        "\n",
        "data['Customer Class'] = np.where(data['Payment (Rs)'] > 200, 'RICH', 'POOR')\n",
        "\n",
        "X = data[['Candies (#)', 'Mangoes (Kg)', 'Milk Packets (#)']].values\n",
        "\n",
        "print(data[['Payment (Rs)', 'Customer Class']])\n"
      ],
      "metadata": {
        "colab": {
          "base_uri": "https://localhost:8080/"
        },
        "id": "1oOz1VNca8zT",
        "outputId": "b1e108bb-b85f-46c0-b539-f9e3e0cf4f29"
      },
      "execution_count": null,
      "outputs": [
        {
          "output_type": "stream",
          "name": "stdout",
          "text": [
            "   Payment (Rs) Customer Class\n",
            "0           386           RICH\n",
            "1           289           RICH\n",
            "2           393           RICH\n",
            "3           110           POOR\n",
            "4           280           RICH\n",
            "5           167           POOR\n",
            "6           271           RICH\n",
            "7           274           RICH\n",
            "8           148           POOR\n",
            "9           198           POOR\n"
          ]
        }
      ]
    },
    {
      "cell_type": "code",
      "source": [
        "import statistics\n",
        "data = pd.read_excel('/Lab_Session_Data.xlsx', sheet_name = 'IRCTC Stock Price')\n",
        "prices = data['Price']\n",
        "mean = statistics.mean(prices)\n",
        "print(\"Mean:\", mean)\n",
        "print(\"Variance:\", statistics.variance(prices))"
      ],
      "metadata": {
        "colab": {
          "base_uri": "https://localhost:8080/"
        },
        "id": "3TwXnJn9ebUC",
        "outputId": "aa775529-1162-4d98-f3c8-5eb69bc8c3e2"
      },
      "execution_count": null,
      "outputs": [
        {
          "output_type": "stream",
          "name": "stdout",
          "text": [
            "Mean: 1560.663453815261\n",
            "Variance: 58732.365352539186\n"
          ]
        }
      ]
    },
    {
      "source": [
        "wednesday_prices = data[data['Day'] == 'Wed']['Price']\n",
        "wednesday_mean = statistics.mean(wednesday_prices)\n",
        "print(\"Wednesday Mean:\", wednesday_mean)"
      ],
      "cell_type": "code",
      "metadata": {
        "colab": {
          "base_uri": "https://localhost:8080/"
        },
        "id": "ZlG_eLp4g2qS",
        "outputId": "a9ac168d-55f4-4d7d-8c63-ece810ce9b91"
      },
      "execution_count": null,
      "outputs": [
        {
          "output_type": "stream",
          "name": "stdout",
          "text": [
            "Wednesday Mean: 1550.706\n"
          ]
        }
      ]
    }
  ]
}