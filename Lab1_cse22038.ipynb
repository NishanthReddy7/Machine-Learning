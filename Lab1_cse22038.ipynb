{
  "nbformat": 4,
  "nbformat_minor": 0,
  "metadata": {
    "colab": {
      "provenance": [],
      "authorship_tag": "ABX9TyPBCKn4MeHwlWT9D4J5C3tw",
      "include_colab_link": true
    },
    "kernelspec": {
      "name": "python3",
      "display_name": "Python 3"
    },
    "language_info": {
      "name": "python"
    }
  },
  "cells": [
    {
      "cell_type": "markdown",
      "metadata": {
        "id": "view-in-github",
        "colab_type": "text"
      },
      "source": [
        "<a href=\"https://colab.research.google.com/github/NishanthReddy7/Machine-Learning/blob/main/Lab1_cse22038.ipynb\" target=\"_parent\"><img src=\"https://colab.research.google.com/assets/colab-badge.svg\" alt=\"Open In Colab\"/></a>"
      ]
    },
    {
      "cell_type": "code",
      "source": [
        "def count_vowels_and_consonants():\n",
        "    vowel_count = 0\n",
        "    consonant_count = 0\n",
        "\n",
        "    print(\"Enter the string\")\n",
        "\n",
        "    string = input()\n",
        "\n",
        "    # Converting the string to lower case to reduce the confusions/comparisons\n",
        "    string = string.lower()\n",
        "    for i in range(0, len(string)):   # checks the entire string for vowels and consonants\n",
        "        if string[i] in ('a', \"e\", \"i\", \"o\", \"u\"):  # Checks whether a character is a vowel\n",
        "            vowel_count = vowel_count + 1;\n",
        "        elif (string[i] >= 'a' and string[i] <= 'z'):\n",
        "            consonant_count = consonant_count + 1;\n",
        "    print(\"Total number of vowel and consonant are\")\n",
        "    print(\"Vowels: \", vowel_count)\n",
        "    print(\"Consonants: \", consonant_count)\n",
        "count_vowels_and_consonants()"
      ],
      "metadata": {
        "id": "yGN7_qoXVScd"
      },
      "execution_count": null,
      "outputs": []
    },
    {
      "cell_type": "code",
      "source": [
        "Code: - def matrix_input(prompt):\n",
        "    print(prompt)\n",
        "    r = int(input(\"Enter no of rows: \"))\n",
        "    c = int(input(\"Enter no of columns: \"))\n",
        "    matrix = []\n",
        "    print(\"Enter the matrix row by row:\")\n",
        "    for i in range(r):\n",
        "        row = list(map(int, input().split()))  # enter the row elements with space in between them\n",
        "        if len(row) != c:\n",
        "            print(\"Invalid row length. Please re-enter the row.\")  # if you don't enter the proper number of elements that are equal to that of the rows mentioned while inputting it'll show this message\n",
        "            row = list(map(int, input().split()))\n",
        "        matrix.append(row)\n",
        "    return matrix\n",
        "def matrix_multiply(A, B):\n",
        "    r_A, c_A = len(A), len(A[0])\n",
        "    r_B, c_B = len(B), len(B[0])\n",
        "    if c_A != r_B:\n",
        "        return \"Error: Matrices are not multiplicable.\"\n",
        "    result = [[0 for _ in range(c_B)] for _ in range(r_A)]\n",
        "    for i in range(r_A):\n",
        "        for j in range(c_B):\n",
        "            for k in range(c_A):\n",
        "                result[i][j] += A[i][k] * B[k][j]\n",
        "    return result\n",
        "def main():\n",
        "    A = matrix_input(\"Enter matrix A:\")\n",
        "    B = matrix_input(\"Enter matrix B:\")\n",
        "    result = matrix_multiply(A, B)\n",
        "    if isinstance(result, str):\n",
        "        print(result)\n",
        "    else:\n",
        "        print(\"The product of matrices A and B is:\")\n",
        "        for row in result:\n",
        "            print(\" \".join(map(str, row)))\n",
        "if __name__ == \"__main__\":\n",
        "    main()\n"
      ],
      "metadata": {
        "id": "xOi6vw9zVgX7"
      },
      "execution_count": null,
      "outputs": []
    },
    {
      "cell_type": "code",
      "source": [
        "def count_common_elements(list1, list2):\n",
        "    set1 = set(list1)\n",
        "    set2 = set(list2)\n",
        "    # Find the intersection of the two sets\n",
        "    common_elements = set1.intersection(set2)\n",
        "    # Return the number of common elements\n",
        "    return len(common_elements)\n",
        "\n",
        "\n",
        "list1 = [1, 2, 3, 4, 5]\n",
        "list2 = [4, 5, 6, 7, 8]\n",
        "common_count = count_common_elements(list1, list2)\n",
        "print(f\"Number of common elements: {common_count}\")\n"
      ],
      "metadata": {
        "id": "gegpcH2YVhbl"
      },
      "execution_count": null,
      "outputs": []
    },
    {
      "cell_type": "code",
      "source": [
        "import numpy\n",
        "matrix = [[1, 2, 3], [4, 5, 6]]\n",
        "print(matrix)\n",
        "print(\"\\n\")\n",
        "print(numpy.transpose(matrix))\n"
      ],
      "metadata": {
        "id": "eb2ptt0lVllP"
      },
      "execution_count": null,
      "outputs": []
    }
  ]
}