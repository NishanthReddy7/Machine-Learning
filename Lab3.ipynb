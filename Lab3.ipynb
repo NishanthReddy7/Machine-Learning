{
  "nbformat": 4,
  "nbformat_minor": 0,
  "metadata": {
    "colab": {
      "provenance": [],
      "authorship_tag": "ABX9TyMKxuWAnSWiierUHyE5RAbR",
      "include_colab_link": true
    },
    "kernelspec": {
      "name": "python3",
      "display_name": "Python 3"
    },
    "language_info": {
      "name": "python"
    }
  },
  "cells": [
    {
      "cell_type": "markdown",
      "metadata": {
        "id": "view-in-github",
        "colab_type": "text"
      },
      "source": [
        "<a href=\"https://colab.research.google.com/github/NishanthReddy7/Machine-Learning/blob/main/ML_Lab3.ipynb\" target=\"_parent\"><img src=\"https://colab.research.google.com/assets/colab-badge.svg\" alt=\"Open In Colab\"/></a>"
      ]
    },
    {
      "cell_type": "code",
      "execution_count": null,
      "metadata": {
        "id": "Nx9PzjDk1F5J"
      },
      "outputs": [],
      "source": [
        "import pandas as pd\n",
        "\n",
        "# Load dataset from the specific sheet\n",
        "df = pd.read_excel('Lab Session Data.xlsx', sheet_name='marketing_campaign')\n",
        "\n",
        "# Extract features and labels\n",
        "X = df.drop('Year_Birth', axis=1)\n",
        "y = df['Year_Birth']\n",
        "\n",
        "# Display column names and the first few rows\n",
        "print(df.columns)"
      ]
    },
    {
      "cell_type": "code",
      "source": [
        "import pandas as pd\n",
        "\n",
        "# Load dataset\n",
        "df = pd.read_excel('Lab Session Data.xlsx', sheet_name='marketing_campaign')\n",
        "\n",
        "# Display unique classes in the Response column\n",
        "unique_classes = df['Response'].unique()\n",
        "print(\"Unique classes in the 'Response' column:\", unique_classes)\n"
      ],
      "metadata": {
        "id": "k6NAu0TS1K_l"
      },
      "execution_count": null,
      "outputs": []
    },
    {
      "cell_type": "code",
      "source": [
        "import pandas as pd\n",
        "import numpy as np\n",
        "\n",
        "# Load dataset\n",
        "df = pd.read_excel('Lab Session Data.xlsx', sheet_name='marketing_campaign')\n",
        "\n",
        "# Extract features and labels\n",
        "X = df.drop('Response', axis=1).select_dtypes(include=[np.number])  # Use only numerical features\n",
        "y = df['Response']\n",
        "\n",
        "def calculate_intraclass_interclass(X, y):\n",
        "    classes = y.unique()\n",
        "    class_means = {}\n",
        "    class_spreads = {}\n",
        "\n",
        "    for cls in classes:\n",
        "        class_data = X[y == cls]\n",
        "        class_means[cls] = class_data.mean(axis=0)\n",
        "        class_spreads[cls] = class_data.std(axis=0)\n",
        "\n",
        "    interclass_distances = {}\n",
        "    for cls1 in classes:\n",
        "        for cls2 in classes:\n",
        "            if cls1 != cls2:\n",
        "                distance = np.linalg.norm(class_means[cls1] - class_means[cls2])\n",
        "                interclass_distances[(cls1, cls2)] = distance\n",
        "\n",
        "    return class_means, class_spreads, interclass_distances\n",
        "\n",
        "class_means, class_spreads, interclass_distances = calculate_intraclass_interclass(X, y)\n",
        "print(\"Class Means:\", class_means)\n",
        "print(\"Class Spreads:\", class_spreads)\n",
        "print(\"Interclass Distances:\", interclass_distances)\n"
      ],
      "metadata": {
        "id": "1cx_2Ox21Oud"
      },
      "execution_count": null,
      "outputs": []
    },
    {
      "cell_type": "code",
      "source": [
        "import matplotlib.pyplot as plt\n",
        "\n",
        "feature = 'Income'  # Change this to any feature you want to analyze\n",
        "data = X[feature]\n",
        "\n",
        "# Plot histogram\n",
        "plt.hist(data, bins=30, edgecolor='black')\n",
        "plt.title(f'Histogram of {feature}')\n",
        "plt.xlabel('Value')\n",
        "plt.ylabel('Frequency')\n",
        "plt.show()\n",
        "\n",
        "# Calculate mean and variance\n",
        "mean = np.mean(data)\n",
        "variance = np.var(data)\n",
        "print(f\"Mean of {feature}: {mean}\")\n",
        "print(f\"Variance of {feature}: {variance}\")\n",
        "\n",
        "\n",
        "def minkowski_distance(x1, x2, r):\n",
        "    return np.linalg.norm(x1 - x2, ord=r)\n",
        "\n",
        "feature_vector_1 = X.iloc[0].values\n",
        "feature_vector_2 = X.iloc[1].values\n",
        "r_values = range(1, 11)\n",
        "distances = [minkowski_distance(feature_vector_1, feature_vector_2, r) for r in r_values]\n",
        "\n",
        "plt.plot(r_values, distances, marker='o')\n",
        "plt.title('Minkowski Distance vs. r')\n",
        "plt.xlabel('r')\n",
        "plt.ylabel('Distance')\n",
        "plt.show()\n"
      ],
      "metadata": {
        "id": "w2GRyJS71TSt"
      },
      "execution_count": null,
      "outputs": []
    },
    {
      "cell_type": "code",
      "source": [
        "import pandas as pd\n",
        "import numpy as np\n",
        "from sklearn.impute import SimpleImputer\n",
        "from sklearn.neighbors import KNeighborsClassifier\n",
        "from sklearn.model_selection import train_test_split\n",
        "from sklearn.metrics import confusion_matrix, classification_report\n",
        "import matplotlib.pyplot as plt\n",
        "\n",
        "# Load dataset\n",
        "df = pd.read_excel('Lab Session Data.xlsx', sheet_name='marketing_campaign')\n",
        "\n",
        "# Extract features and labels\n",
        "X = df.drop('Response', axis=1).select_dtypes(include=[np.number])  # Use only numerical features\n",
        "y = df['Response']\n",
        "\n",
        "# Handle missing values by imputing with the mean\n",
        "imputer = SimpleImputer(strategy='mean')\n",
        "X_imputed = imputer.fit_transform(X)\n",
        "\n",
        "# Split dataset into training and test sets\n",
        "X_train, X_test, y_train, y_test = train_test_split(X_imputed, y, test_size=0.3, stratify=y)\n"
      ],
      "metadata": {
        "id": "L5kXM3hQ1Xjq"
      },
      "execution_count": null,
      "outputs": []
    },
    {
      "cell_type": "code",
      "source": [
        "# Train kNN classifier\n",
        "knn = KNeighborsClassifier(n_neighbors=3)\n",
        "knn.fit(X_train, y_train)\n",
        "\n",
        "# Test accuracy\n",
        "accuracy = knn.score(X_test, y_test)\n",
        "print(f\"Accuracy of kNN (k=3): {accuracy:.2f}\")\n",
        "\n",
        "# Predict using the kNN classifier\n",
        "predictions = knn.predict(X_test)\n",
        "print(\"Predictions on test set:\", predictions)\n",
        "\n",
        "# Confusion matrix\n",
        "cm = confusion_matrix(y_test, predictions)\n",
        "print(\"Confusion Matrix:\")\n",
        "print(cm)\n",
        "\n",
        "# Classification report\n",
        "report = classification_report(y_test, predictions)\n",
        "print(\"Classification Report:\")\n",
        "print(report)\n",
        "\n"
      ],
      "metadata": {
        "id": "H8_2yhvP1jSv"
      },
      "execution_count": null,
      "outputs": []
    },
    {
      "cell_type": "code",
      "source": [
        "# Vary k from 1 to 11 and plot accuracy\n",
        "k_values = range(1, 12)\n",
        "accuracies = []\n",
        "for k in k_values:\n",
        "    knn = KNeighborsClassifier(n_neighbors=k)\n",
        "    knn.fit(X_train, y_train)\n",
        "    accuracy = knn.score(X_test, y_test)\n",
        "    accuracies.append(accuracy)\n",
        "\n",
        "plt.plot(k_values, accuracies, marker='o')\n",
        "plt.title('Accuracy vs. k')\n",
        "plt.xlabel('k')\n",
        "plt.ylabel('Accuracy')\n",
        "plt.show()"
      ],
      "metadata": {
        "id": "rbAqIhTm16ZF"
      },
      "execution_count": null,
      "outputs": []
    }
  ]
}
